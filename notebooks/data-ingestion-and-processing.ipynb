{
 "cells": [
  {
   "cell_type": "code",
   "execution_count": 33,
   "id": "4ef86543",
   "metadata": {},
   "outputs": [],
   "source": [
    "import asyncio\n",
    "from telethon import TelegramClient\n",
    "import json\n",
    "import re\n",
    "from dotenv import load_dotenv\n",
    "import os"
   ]
  },
  {
   "cell_type": "code",
   "execution_count": 34,
   "id": "0ec3930d",
   "metadata": {},
   "outputs": [
    {
     "data": {
      "text/plain": [
       "True"
      ]
     },
     "execution_count": 34,
     "metadata": {},
     "output_type": "execute_result"
    }
   ],
   "source": [
    "load_dotenv()  # take environment variables from .env."
   ]
  },
  {
   "cell_type": "code",
   "execution_count": 35,
   "id": "d17204b3",
   "metadata": {},
   "outputs": [],
   "source": [
    "channels = [\n",
    "    'ZemenExpress',\n",
    "    'nevacomputer',\n",
    "    'meneshayeofficial',\n",
    "    'ethio_brand_collection',\n",
    "    'Leyueqa',\n",
    "    'sinayelj',\n",
    "    'Shewabrand',\n",
    "    'qnashcom',\n",
    "    'marakibrand',\n",
    "    'Fashiontera'\n",
    "]"
   ]
  },
  {
   "cell_type": "code",
   "execution_count": 36,
   "id": "97908bc1",
   "metadata": {},
   "outputs": [
    {
     "name": "stdout",
     "output_type": "stream",
     "text": [
      "Logged in successfully!\n"
     ]
    }
   ],
   "source": [
    "api_id = int(os.getenv(\"API_ID\"))\n",
    "api_hash = os.getenv(\"API_HASH\")\n",
    "session_name = 'ethio_mart_session'  \n",
    "\n",
    "# Start the client\n",
    "async def main():\n",
    "    async with TelegramClient(session_name, api_id, api_hash) as client:\n",
    "        print(\"Logged in successfully!\")\n",
    "\n",
    "# If you're in a notebook or async environment:\n",
    "await main()"
   ]
  },
  {
   "cell_type": "code",
   "execution_count": 37,
   "id": "a0cfdad4",
   "metadata": {},
   "outputs": [
    {
     "name": "stdout",
     "output_type": "stream",
     "text": [
      "✅ Saved 40 messages from ZemenExpress\n",
      "✅ Saved 32 messages from nevacomputer\n",
      "✅ Saved 92 messages from meneshayeofficial\n",
      "✅ Saved 99 messages from ethio_brand_collection\n",
      "✅ Saved 55 messages from Leyueqa\n",
      "✅ Saved 23 messages from sinayelj\n",
      "✅ Saved 74 messages from Shewabrand\n",
      "✅ Saved 82 messages from qnashcom\n",
      "✅ Saved 25 messages from marakibrand\n",
      "✅ Saved 41 messages from Fashiontera\n"
     ]
    }
   ],
   "source": [
    "async def fetch_and_save_all():\n",
    "    async with TelegramClient(session_name, api_id, api_hash) as client:\n",
    "        for channel_username in channels:\n",
    "            try:\n",
    "                channel = await client.get_entity(channel_username)\n",
    "                messages = await client.get_messages(channel, limit=100)\n",
    "\n",
    "                message_data = []\n",
    "                for msg in messages:\n",
    "                    if msg.text:\n",
    "                        message_data.append({\n",
    "                            \"id\": msg.id,\n",
    "                            \"text\": msg.text,\n",
    "                            \"date\": str(msg.date),\n",
    "                            \"sender_id\": msg.sender_id,\n",
    "                            \"channel\": channel_username\n",
    "                        })\n",
    "\n",
    "                with open(f\"{channel_username}_messages.json\", \"w\", encoding='utf-8') as f:\n",
    "                    json.dump(message_data, f, ensure_ascii=False, indent=2)\n",
    "\n",
    "                print(f\"✅ Saved {len(message_data)} messages from {channel_username}\")\n",
    "\n",
    "            except Exception as e:\n",
    "                print(f\"❌ Failed to fetch from {channel_username}: {e}\")\n",
    "\n",
    "# Run it\n",
    "await fetch_and_save_all()\n"
   ]
  },
  {
   "cell_type": "code",
   "execution_count": 38,
   "id": "45be01bf",
   "metadata": {},
   "outputs": [
    {
     "name": "stdout",
     "output_type": "stream",
     "text": [
      "✅ Cleaned and saved ZemenExpress messages.\n",
      "✅ Cleaned and saved nevacomputer messages.\n",
      "✅ Cleaned and saved meneshayeofficial messages.\n",
      "✅ Cleaned and saved ethio_brand_collection messages.\n",
      "✅ Cleaned and saved Leyueqa messages.\n",
      "✅ Cleaned and saved sinayelj messages.\n",
      "✅ Cleaned and saved Shewabrand messages.\n",
      "✅ Cleaned and saved qnashcom messages.\n",
      "✅ Cleaned and saved marakibrand messages.\n",
      "✅ Cleaned and saved Fashiontera messages.\n"
     ]
    }
   ],
   "source": [
    "def clean_text(text):\n",
    "    # Remove emojis and non-text symbols\n",
    "    text = re.sub(r'[^\\w\\s፡።፣፤፥፦፧፨መሰረታዊ]', '', text)\n",
    "    \n",
    "    # Normalize spaces and punctuation\n",
    "    text = re.sub(r'\\s+', ' ', text)\n",
    "    text = text.strip()\n",
    "    \n",
    "    return text\n",
    "\n",
    "# Loop through each channel and clean messages\n",
    "for channel in channels:\n",
    "    try:\n",
    "        # Load the raw messages\n",
    "        with open(f\"{channel}_messages.json\", \"r\", encoding=\"utf-8\") as f:\n",
    "            messages = json.load(f)\n",
    "\n",
    "        # Clean messages\n",
    "        cleaned_messages = []\n",
    "        for msg in messages:\n",
    "            cleaned = clean_text(msg[\"text\"])\n",
    "            cleaned_messages.append({\n",
    "                \"id\": msg[\"id\"],\n",
    "                \"cleaned_text\": cleaned,\n",
    "                \"original_text\": msg[\"text\"],\n",
    "                \"date\": msg[\"date\"],\n",
    "                \"sender_id\": msg[\"sender_id\"],\n",
    "                \"channel\": msg[\"channel\"]\n",
    "            })\n",
    "\n",
    "        # Save cleaned messages\n",
    "        with open(f\"{channel}_cleaned.json\", \"w\", encoding=\"utf-8\") as f:\n",
    "            json.dump(cleaned_messages, f, ensure_ascii=False, indent=2)\n",
    "\n",
    "        print(f\"✅ Cleaned and saved {channel} messages.\")\n",
    "\n",
    "    except Exception as e:\n",
    "        print(f\"❌ Failed to process {channel}: {e}\")"
   ]
  }
 ],
 "metadata": {
  "kernelspec": {
   "display_name": ".venv",
   "language": "python",
   "name": "python3"
  },
  "language_info": {
   "codemirror_mode": {
    "name": "ipython",
    "version": 3
   },
   "file_extension": ".py",
   "mimetype": "text/x-python",
   "name": "python",
   "nbconvert_exporter": "python",
   "pygments_lexer": "ipython3",
   "version": "3.12.7"
  }
 },
 "nbformat": 4,
 "nbformat_minor": 5
}
